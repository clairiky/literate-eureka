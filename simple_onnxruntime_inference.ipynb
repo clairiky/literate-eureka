{
 "cells": [
  {
   "cell_type": "markdown",
   "metadata": {},
   "source": [
    "Inference for a simple model with ONNX Runtime\n",
    "========================================\n",
    "\n",
    "This example demonstrates how to load a model and compute\n",
    "the output for an input vector. It also shows how to\n",
    "retrieve the definition of its inputs and outputs.\n",
    "\n"
   ]
  },
  {
   "cell_type": "code",
   "execution_count": null,
   "metadata": {},
   "outputs": [],
   "source": [
    "import onnxruntime\n",
    "import numpy as np\n",
    "from onnxruntime.datasets import get_example"
   ]
  },
  {
   "cell_type": "markdown",
   "metadata": {},
   "source": [
    "Let's load a very simple ONNX model.\n",
    "The model is available on as a [test case for the sigmoid operator on Github](https://github.com/onnx/onnx/tree/master/onnx/backend/test/data/node/test_sigmoid).\n"
   ]
  },
  {
   "cell_type": "code",
   "execution_count": null,
   "metadata": {},
   "outputs": [],
   "source": [
    "example_model = get_example(\"sigmoid.onnx\")\n",
    "sess = onnxruntime.InferenceSession(example_model)"
   ]
  },
  {
   "cell_type": "markdown",
   "metadata": {},
   "source": [
    "Let's identify our input name and shape."
   ]
  },
  {
   "cell_type": "code",
   "execution_count": null,
   "metadata": {},
   "outputs": [],
   "source": [
    "input_name = sess.get_inputs()[0].name\n",
    "print(\"Input name  :\", input_name)\n",
    "input_shape = sess.get_inputs()[0].shape\n",
    "print(\"Input shape :\", input_shape)\n",
    "input_type = sess.get_inputs()[0].type\n",
    "print(\"Input type  :\", input_type)"
   ]
  },
  {
   "cell_type": "markdown",
   "metadata": {},
   "source": [
    "Let's identify our output name and shape."
   ]
  },
  {
   "cell_type": "code",
   "execution_count": null,
   "metadata": {},
   "outputs": [],
   "source": [
    "output_name = sess.get_outputs()[0].name\n",
    "print(\"Output name  :\", output_name)  \n",
    "output_shape = sess.get_outputs()[0].shape\n",
    "print(\"Output shape :\", output_shape)\n",
    "output_type = sess.get_outputs()[0].type\n",
    "print(\"Output type  :\", output_type)"
   ]
  },
  {
   "cell_type": "markdown",
   "metadata": {},
   "source": [
    "### Model prediction using ONNX Runtime\n",
    "\n",
    "Now that we've loaded our model, let's pass in some input and compute our predictions."
   ]
  },
  {
   "cell_type": "code",
   "execution_count": null,
   "metadata": {},
   "outputs": [],
   "source": [
    "x = np.random.random(input_shape)\n",
    "x = x.astype(np.float32)"
   ]
  },
  {
   "cell_type": "code",
   "execution_count": null,
   "metadata": {},
   "outputs": [],
   "source": [
    "%%time\n",
    "result = sess.run([output_name], {input_name: x})"
   ]
  },
  {
   "cell_type": "code",
   "execution_count": null,
   "metadata": {},
   "outputs": [],
   "source": [
    "result = sess.run([output_name], {input_name: x})\n",
    "print(result)"
   ]
  }
 ],
 "metadata": {
  "kernelspec": {
   "display_name": "Python 3",
   "language": "python",
   "name": "python3"
  },
  "language_info": {
   "codemirror_mode": {
    "name": "ipython",
    "version": 3
   },
   "file_extension": ".py",
   "mimetype": "text/x-python",
   "name": "python",
   "nbconvert_exporter": "python",
   "pygments_lexer": "ipython3",
   "version": "3.6.5"
  }
 },
 "nbformat": 4,
 "nbformat_minor": 1
}

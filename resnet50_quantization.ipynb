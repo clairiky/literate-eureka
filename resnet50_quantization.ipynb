{
 "cells": [
  {
   "cell_type": "code",
   "execution_count": 1,
   "metadata": {},
   "outputs": [
    {
     "name": "stderr",
     "output_type": "stream",
     "text": [
      "C:\\Users\\Chanchala\\Miniconda3\\envs\\tensorflow-quant\\lib\\site-packages\\tensorboard\\compat\\tensorflow_stub\\dtypes.py:541: FutureWarning: Passing (type, 1) or '1type' as a synonym of type is deprecated; in a future version of numpy, it will be understood as (type, (1,)) / '(1,)type'.\n",
      "  _np_qint8 = np.dtype([(\"qint8\", np.int8, 1)])\n",
      "C:\\Users\\Chanchala\\Miniconda3\\envs\\tensorflow-quant\\lib\\site-packages\\tensorboard\\compat\\tensorflow_stub\\dtypes.py:542: FutureWarning: Passing (type, 1) or '1type' as a synonym of type is deprecated; in a future version of numpy, it will be understood as (type, (1,)) / '(1,)type'.\n",
      "  _np_quint8 = np.dtype([(\"quint8\", np.uint8, 1)])\n",
      "C:\\Users\\Chanchala\\Miniconda3\\envs\\tensorflow-quant\\lib\\site-packages\\tensorboard\\compat\\tensorflow_stub\\dtypes.py:543: FutureWarning: Passing (type, 1) or '1type' as a synonym of type is deprecated; in a future version of numpy, it will be understood as (type, (1,)) / '(1,)type'.\n",
      "  _np_qint16 = np.dtype([(\"qint16\", np.int16, 1)])\n",
      "C:\\Users\\Chanchala\\Miniconda3\\envs\\tensorflow-quant\\lib\\site-packages\\tensorboard\\compat\\tensorflow_stub\\dtypes.py:544: FutureWarning: Passing (type, 1) or '1type' as a synonym of type is deprecated; in a future version of numpy, it will be understood as (type, (1,)) / '(1,)type'.\n",
      "  _np_quint16 = np.dtype([(\"quint16\", np.uint16, 1)])\n",
      "C:\\Users\\Chanchala\\Miniconda3\\envs\\tensorflow-quant\\lib\\site-packages\\tensorboard\\compat\\tensorflow_stub\\dtypes.py:545: FutureWarning: Passing (type, 1) or '1type' as a synonym of type is deprecated; in a future version of numpy, it will be understood as (type, (1,)) / '(1,)type'.\n",
      "  _np_qint32 = np.dtype([(\"qint32\", np.int32, 1)])\n",
      "C:\\Users\\Chanchala\\Miniconda3\\envs\\tensorflow-quant\\lib\\site-packages\\tensorboard\\compat\\tensorflow_stub\\dtypes.py:550: FutureWarning: Passing (type, 1) or '1type' as a synonym of type is deprecated; in a future version of numpy, it will be understood as (type, (1,)) / '(1,)type'.\n",
      "  np_resource = np.dtype([(\"resource\", np.ubyte, 1)])\n",
      "WARNING: Logging before flag parsing goes to stderr.\n",
      "W0731 14:58:44.390574 14100 module_wrapper.py:136] From C:\\Users\\Chanchala\\Miniconda3\\envs\\tensorflow-quant\\lib\\site-packages\\tensorflow_core\\python\\util\\module_wrapper.py:163: The name tf.enable_eager_execution is deprecated. Please use tf.compat.v1.enable_eager_execution instead.\n",
      "\n"
     ]
    }
   ],
   "source": [
    "import tensorflow as tf\n",
    "tf.enable_eager_execution()"
   ]
  },
  {
   "cell_type": "code",
   "execution_count": 2,
   "metadata": {},
   "outputs": [],
   "source": [
    "\n",
    "import sys\n",
    "import os\n",
    "\n",
    "if sys.version_info.major >= 3:\n",
    "    import pathlib\n",
    "else:\n",
    "    import pathlib2 as pathlib"
   ]
  },
  {
   "cell_type": "code",
   "execution_count": 3,
   "metadata": {},
   "outputs": [],
   "source": [
    "archive_path = tf.keras.utils.get_file(\"resnet_v2_101.tgz\", \"https://storage.googleapis.com/download.tensorflow.org/models/tflite_11_05_08/resnet_v2_101.tgz\", extract=True)\n",
    "archive_path = pathlib.Path(archive_path)\n",
    "archive_dir = str(archive_path.parent)"
   ]
  },
  {
   "cell_type": "code",
   "execution_count": 4,
   "metadata": {},
   "outputs": [
    {
     "name": "stdout",
     "output_type": "stream",
     "text": [
      "Model: resnet_v2_101\n",
      "Input: input\n",
      "Output: output\n"
     ]
    }
   ],
   "source": [
    "!type {archive_dir}\\resnet_v2_101_299_info.txt"
   ]
  },
  {
   "cell_type": "code",
   "execution_count": 5,
   "metadata": {},
   "outputs": [
    {
     "name": "stderr",
     "output_type": "stream",
     "text": [
      "'pwd' is not recognized as an internal or external command,\n",
      "operable program or batch file.\n"
     ]
    }
   ],
   "source": [
    "!pwd"
   ]
  },
  {
   "cell_type": "code",
   "execution_count": 7,
   "metadata": {},
   "outputs": [
    {
     "name": "stdout",
     "output_type": "stream",
     "text": [
      " Volume in drive C has no label.\n",
      " Volume Serial Number is D8B7-5062\n",
      "\n",
      " Directory of C:\\Users\\Chanchala\\.keras\\datasets\n",
      "\n",
      "07/30/2019  04:00 PM    <DIR>          .\n",
      "07/30/2019  04:00 PM    <DIR>          ..\n",
      "07/10/2019  10:45 AM        11,490,434 mnist.npz\n",
      "07/30/2019  03:57 PM       831,690,572 resnet_v2_101.tgz\n",
      "04/14/2017  02:46 PM       536,094,490 resnet_v2_101_299.ckpt\n",
      "09/05/2018  01:56 PM       178,331,444 resnet_v2_101_299.tflite\n",
      "09/05/2018  01:34 PM         2,001,642 resnet_v2_101_299_eval.pbtxt\n",
      "09/05/2018  01:53 PM       179,015,579 resnet_v2_101_299_frozen.pb\n",
      "09/05/2018  01:34 PM                49 resnet_v2_101_299_info.txt\n",
      "07/30/2019  04:00 PM        44,997,256 resnet_v2_101_quantized.tflite\n",
      "               8 File(s)  1,783,621,466 bytes\n",
      "               2 Dir(s)  329,723,228,160 bytes free\n"
     ]
    }
   ],
   "source": [
    "!dir {archive_dir}"
   ]
  },
  {
   "cell_type": "code",
   "execution_count": 8,
   "metadata": {},
   "outputs": [
    {
     "data": {
      "text/plain": [
       "44997256"
      ]
     },
     "execution_count": 8,
     "metadata": {},
     "output_type": "execute_result"
    }
   ],
   "source": [
    "graph_def_file = pathlib.Path(archive_path).parent/\"resnet_v2_101_299_frozen.pb\"\n",
    "input_arrays = [\"input\"] \n",
    "output_arrays = [\"output\"]\n",
    "converter = tf.lite.TFLiteConverter.from_frozen_graph(\n",
    "  str(graph_def_file), input_arrays, output_arrays, input_shapes={\"input\":[1,299,299,3]})\n",
    "converter.optimizations = [tf.lite.Optimize.OPTIMIZE_FOR_SIZE]\n",
    "resnet_tflite_file = graph_def_file.parent/\"resnet_v2_101_quantized.tflite\"\n",
    "resnet_tflite_file.write_bytes(converter.convert())"
   ]
  },
  {
   "cell_type": "code",
   "execution_count": 9,
   "metadata": {},
   "outputs": [
    {
     "name": "stdout",
     "output_type": "stream",
     "text": [
      " Volume in drive C has no label.\n",
      " Volume Serial Number is D8B7-5062\n",
      "\n",
      " Directory of C:\\Users\\Chanchala\\.keras\\datasets\n",
      "\n",
      "07/30/2019  04:00 PM    <DIR>          .\n",
      "07/30/2019  04:00 PM    <DIR>          ..\n",
      "07/10/2019  10:45 AM        11,490,434 mnist.npz\n",
      "07/30/2019  03:57 PM       831,690,572 resnet_v2_101.tgz\n",
      "04/14/2017  02:46 PM       536,094,490 resnet_v2_101_299.ckpt\n",
      "09/05/2018  01:56 PM       178,331,444 resnet_v2_101_299.tflite\n",
      "09/05/2018  01:34 PM         2,001,642 resnet_v2_101_299_eval.pbtxt\n",
      "09/05/2018  01:53 PM       179,015,579 resnet_v2_101_299_frozen.pb\n",
      "09/05/2018  01:34 PM                49 resnet_v2_101_299_info.txt\n",
      "07/31/2019  03:01 PM        44,997,256 resnet_v2_101_quantized.tflite\n",
      "               8 File(s)  1,783,621,466 bytes\n",
      "               2 Dir(s)  329,722,568,704 bytes free\n"
     ]
    }
   ],
   "source": [
    "!dir {archive_dir}"
   ]
  },
  {
   "cell_type": "code",
   "execution_count": null,
   "metadata": {},
   "outputs": [],
   "source": []
  }
 ],
 "metadata": {
  "kernelspec": {
   "display_name": "Python 3",
   "language": "python",
   "name": "python3"
  },
  "language_info": {
   "codemirror_mode": {
    "name": "ipython",
    "version": 3
   },
   "file_extension": ".py",
   "mimetype": "text/x-python",
   "name": "python",
   "nbconvert_exporter": "python",
   "pygments_lexer": "ipython3",
   "version": "3.6.9"
  }
 },
 "nbformat": 4,
 "nbformat_minor": 2
}
